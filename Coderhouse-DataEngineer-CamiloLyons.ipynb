{
 "cells": [
  {
   "cell_type": "code",
   "execution_count": 1,
   "id": "b64a6fc6",
   "metadata": {
    "scrolled": true
   },
   "outputs": [
    {
     "name": "stdout",
     "output_type": "stream",
     "text": [
      "Requirement already satisfied: pandas in c:\\users\\camilito\\anaconda3\\lib\\site-packages (2.0.3)\n",
      "Requirement already satisfied: sqlalchemy in c:\\users\\camilito\\anaconda3\\lib\\site-packages (1.4.39)\n",
      "Requirement already satisfied: psycopg2-binary in c:\\users\\camilito\\anaconda3\\lib\\site-packages (2.9.9)\n",
      "Requirement already satisfied: requests in c:\\users\\camilito\\anaconda3\\lib\\site-packages (2.31.0)\n",
      "Requirement already satisfied: python-dateutil>=2.8.2 in c:\\users\\camilito\\anaconda3\\lib\\site-packages (from pandas) (2.8.2)\n",
      "Requirement already satisfied: pytz>=2020.1 in c:\\users\\camilito\\anaconda3\\lib\\site-packages (from pandas) (2023.3.post1)\n",
      "Requirement already satisfied: tzdata>=2022.1 in c:\\users\\camilito\\anaconda3\\lib\\site-packages (from pandas) (2023.3)\n",
      "Requirement already satisfied: numpy>=1.21.0 in c:\\users\\camilito\\anaconda3\\lib\\site-packages (from pandas) (1.24.3)\n",
      "Requirement already satisfied: greenlet!=0.4.17 in c:\\users\\camilito\\anaconda3\\lib\\site-packages (from sqlalchemy) (2.0.1)\n",
      "Requirement already satisfied: charset-normalizer<4,>=2 in c:\\users\\camilito\\anaconda3\\lib\\site-packages (from requests) (2.0.4)\n",
      "Requirement already satisfied: idna<4,>=2.5 in c:\\users\\camilito\\anaconda3\\lib\\site-packages (from requests) (3.4)\n",
      "Requirement already satisfied: urllib3<3,>=1.21.1 in c:\\users\\camilito\\anaconda3\\lib\\site-packages (from requests) (1.26.16)\n",
      "Requirement already satisfied: certifi>=2017.4.17 in c:\\users\\camilito\\anaconda3\\lib\\site-packages (from requests) (2023.7.22)\n",
      "Requirement already satisfied: six>=1.5 in c:\\users\\camilito\\anaconda3\\lib\\site-packages (from python-dateutil>=2.8.2->pandas) (1.16.0)\n"
     ]
    }
   ],
   "source": [
    "!pip install pandas sqlalchemy psycopg2-binary requests"
   ]
  },
  {
   "cell_type": "code",
   "execution_count": 13,
   "id": "6116a5b8",
   "metadata": {},
   "outputs": [
    {
     "name": "stdout",
     "output_type": "stream",
     "text": [
      "Requirement already satisfied: psycopg2 in c:\\users\\camilito\\anaconda3\\lib\\site-packages (2.9.9)\n"
     ]
    }
   ],
   "source": [
    "!pip install psycopg2"
   ]
  },
  {
   "cell_type": "code",
   "execution_count": 14,
   "id": "6ce755f2",
   "metadata": {},
   "outputs": [
    {
     "name": "stdout",
     "output_type": "stream",
     "text": [
      "Collecting sqlalchemy-redshift\n",
      "  Obtaining dependency information for sqlalchemy-redshift from https://files.pythonhosted.org/packages/17/8b/2c7201607a9a5d997ace6ca907d1dea9271fd399560b082d3432a72046af/sqlalchemy_redshift-0.8.14-py2.py3-none-any.whl.metadata\n",
      "  Downloading sqlalchemy_redshift-0.8.14-py2.py3-none-any.whl.metadata (18 kB)\n",
      "Requirement already satisfied: SQLAlchemy<2.0.0,>=0.9.2 in c:\\users\\camilito\\anaconda3\\lib\\site-packages (from sqlalchemy-redshift) (1.4.39)\n",
      "Requirement already satisfied: packaging in c:\\users\\camilito\\anaconda3\\lib\\site-packages (from sqlalchemy-redshift) (23.1)\n",
      "Requirement already satisfied: greenlet!=0.4.17 in c:\\users\\camilito\\anaconda3\\lib\\site-packages (from SQLAlchemy<2.0.0,>=0.9.2->sqlalchemy-redshift) (2.0.1)\n",
      "Downloading sqlalchemy_redshift-0.8.14-py2.py3-none-any.whl (38 kB)\n",
      "Installing collected packages: sqlalchemy-redshift\n",
      "Successfully installed sqlalchemy-redshift-0.8.14\n",
      "Collecting redshift_connector\n",
      "  Obtaining dependency information for redshift_connector from https://files.pythonhosted.org/packages/d5/9e/eae3a4fc7c0e90b31abb9e268b445667290e5e45ec33f75bf294c6ed8e07/redshift_connector-2.1.1-py3-none-any.whl.metadata\n",
      "  Downloading redshift_connector-2.1.1-py3-none-any.whl.metadata (66 kB)\n",
      "     ---------------------------------------- 0.0/66.8 kB ? eta -:--:--\n",
      "     ------ --------------------------------- 10.2/66.8 kB ? eta -:--:--\n",
      "     ----------------- -------------------- 30.7/66.8 kB 262.6 kB/s eta 0:00:01\n",
      "     ---------------------------------- --- 61.4/66.8 kB 409.6 kB/s eta 0:00:01\n",
      "     -------------------------------------- 66.8/66.8 kB 452.8 kB/s eta 0:00:00\n",
      "Collecting scramp<1.5.0,>=1.2.0 (from redshift_connector)\n",
      "  Obtaining dependency information for scramp<1.5.0,>=1.2.0 from https://files.pythonhosted.org/packages/d9/9f/8b2f2749ccfbe4fcef08650896ac47ed919ff25b7ac57b7a1ae7da16c8c3/scramp-1.4.5-py3-none-any.whl.metadata\n",
      "  Downloading scramp-1.4.5-py3-none-any.whl.metadata (19 kB)\n",
      "Requirement already satisfied: pytz>=2020.1 in c:\\users\\camilito\\anaconda3\\lib\\site-packages (from redshift_connector) (2023.3.post1)\n",
      "Requirement already satisfied: beautifulsoup4<5.0.0,>=4.7.0 in c:\\users\\camilito\\anaconda3\\lib\\site-packages (from redshift_connector) (4.12.2)\n",
      "Collecting boto3<2.0.0,>=1.9.201 (from redshift_connector)\n",
      "  Obtaining dependency information for boto3<2.0.0,>=1.9.201 from https://files.pythonhosted.org/packages/90/82/450b69836a8f7a42b5382e1764bc21affafec4da9b64aa0a4fc36c1e3e8a/boto3-1.34.120-py3-none-any.whl.metadata\n",
      "  Downloading boto3-1.34.120-py3-none-any.whl.metadata (6.6 kB)\n",
      "Requirement already satisfied: requests<3.0.0,>=2.23.0 in c:\\users\\camilito\\anaconda3\\lib\\site-packages (from redshift_connector) (2.31.0)\n",
      "Requirement already satisfied: lxml>=4.6.5 in c:\\users\\camilito\\anaconda3\\lib\\site-packages (from redshift_connector) (4.9.3)\n",
      "Requirement already satisfied: botocore<2.0.0,>=1.12.201 in c:\\users\\camilito\\anaconda3\\lib\\site-packages (from redshift_connector) (1.29.76)\n",
      "Requirement already satisfied: packaging in c:\\users\\camilito\\anaconda3\\lib\\site-packages (from redshift_connector) (23.1)\n",
      "Requirement already satisfied: setuptools in c:\\users\\camilito\\anaconda3\\lib\\site-packages (from redshift_connector) (68.0.0)\n",
      "Requirement already satisfied: soupsieve>1.2 in c:\\users\\camilito\\anaconda3\\lib\\site-packages (from beautifulsoup4<5.0.0,>=4.7.0->redshift_connector) (2.4)\n",
      "Collecting botocore<2.0.0,>=1.12.201 (from redshift_connector)\n",
      "  Obtaining dependency information for botocore<2.0.0,>=1.12.201 from https://files.pythonhosted.org/packages/35/2a/09c4ebbd6a10e8aeb15967c34798cc315b07c7062906ed628adf2234bc7e/botocore-1.34.120-py3-none-any.whl.metadata\n",
      "  Downloading botocore-1.34.120-py3-none-any.whl.metadata (5.7 kB)\n",
      "Requirement already satisfied: jmespath<2.0.0,>=0.7.1 in c:\\users\\camilito\\anaconda3\\lib\\site-packages (from boto3<2.0.0,>=1.9.201->redshift_connector) (0.10.0)\n",
      "Collecting s3transfer<0.11.0,>=0.10.0 (from boto3<2.0.0,>=1.9.201->redshift_connector)\n",
      "  Obtaining dependency information for s3transfer<0.11.0,>=0.10.0 from https://files.pythonhosted.org/packages/83/37/395cdb6ee92925fa211e55d8f07b9f93cf93f60d7d4ce5e66fd73f1ea986/s3transfer-0.10.1-py3-none-any.whl.metadata\n",
      "  Downloading s3transfer-0.10.1-py3-none-any.whl.metadata (1.7 kB)\n",
      "Requirement already satisfied: python-dateutil<3.0.0,>=2.1 in c:\\users\\camilito\\anaconda3\\lib\\site-packages (from botocore<2.0.0,>=1.12.201->redshift_connector) (2.8.2)\n",
      "Requirement already satisfied: urllib3!=2.2.0,<3,>=1.25.4 in c:\\users\\camilito\\anaconda3\\lib\\site-packages (from botocore<2.0.0,>=1.12.201->redshift_connector) (1.26.16)\n",
      "Requirement already satisfied: charset-normalizer<4,>=2 in c:\\users\\camilito\\anaconda3\\lib\\site-packages (from requests<3.0.0,>=2.23.0->redshift_connector) (2.0.4)\n",
      "Requirement already satisfied: idna<4,>=2.5 in c:\\users\\camilito\\anaconda3\\lib\\site-packages (from requests<3.0.0,>=2.23.0->redshift_connector) (3.4)\n",
      "Requirement already satisfied: certifi>=2017.4.17 in c:\\users\\camilito\\anaconda3\\lib\\site-packages (from requests<3.0.0,>=2.23.0->redshift_connector) (2023.7.22)\n",
      "Collecting asn1crypto>=1.5.1 (from scramp<1.5.0,>=1.2.0->redshift_connector)\n",
      "  Obtaining dependency information for asn1crypto>=1.5.1 from https://files.pythonhosted.org/packages/c9/7f/09065fd9e27da0eda08b4d6897f1c13535066174cc023af248fc2a8d5e5a/asn1crypto-1.5.1-py2.py3-none-any.whl.metadata\n",
      "  Downloading asn1crypto-1.5.1-py2.py3-none-any.whl.metadata (13 kB)\n",
      "Requirement already satisfied: six>=1.5 in c:\\users\\camilito\\anaconda3\\lib\\site-packages (from python-dateutil<3.0.0,>=2.1->botocore<2.0.0,>=1.12.201->redshift_connector) (1.16.0)\n",
      "Downloading redshift_connector-2.1.1-py3-none-any.whl (125 kB)\n",
      "   ---------------------------------------- 0.0/125.0 kB ? eta -:--:--\n",
      "   ---------------------- ----------------- 71.7/125.0 kB 2.0 MB/s eta 0:00:01\n",
      "   ----------------------------- ---------- 92.2/125.0 kB 1.1 MB/s eta 0:00:01\n",
      "   ---------------------------------------- 125.0/125.0 kB 1.1 MB/s eta 0:00:00\n",
      "Downloading boto3-1.34.120-py3-none-any.whl (139 kB)\n",
      "   ---------------------------------------- 0.0/139.3 kB ? eta -:--:--\n",
      "   ----------------------------------- ---- 122.9/139.3 kB 7.0 MB/s eta 0:00:01\n",
      "   ---------------------------------------- 139.3/139.3 kB 1.7 MB/s eta 0:00:00\n",
      "Downloading botocore-1.34.120-py3-none-any.whl (12.3 MB)\n",
      "   ---------------------------------------- 0.0/12.3 MB ? eta -:--:--\n",
      "   ---------------------------------------- 0.1/12.3 MB 6.8 MB/s eta 0:00:02\n",
      "    --------------------------------------- 0.2/12.3 MB 2.1 MB/s eta 0:00:06\n",
      "   - -------------------------------------- 0.4/12.3 MB 3.0 MB/s eta 0:00:04\n",
      "   - -------------------------------------- 0.5/12.3 MB 2.6 MB/s eta 0:00:05\n",
      "   -- ------------------------------------- 0.7/12.3 MB 2.9 MB/s eta 0:00:05\n",
      "   -- ------------------------------------- 0.7/12.3 MB 2.9 MB/s eta 0:00:04\n",
      "   -- ------------------------------------- 0.9/12.3 MB 2.6 MB/s eta 0:00:05\n",
      "   --- ------------------------------------ 1.1/12.3 MB 2.8 MB/s eta 0:00:04\n",
      "   ---- ----------------------------------- 1.3/12.3 MB 3.0 MB/s eta 0:00:04\n",
      "   ---- ----------------------------------- 1.5/12.3 MB 3.1 MB/s eta 0:00:04\n",
      "   ---- ----------------------------------- 1.5/12.3 MB 2.9 MB/s eta 0:00:04\n",
      "   ----- ---------------------------------- 1.8/12.3 MB 3.2 MB/s eta 0:00:04\n",
      "   ------ --------------------------------- 1.9/12.3 MB 3.0 MB/s eta 0:00:04\n",
      "   ------ --------------------------------- 2.1/12.3 MB 3.1 MB/s eta 0:00:04\n",
      "   ------- -------------------------------- 2.3/12.3 MB 3.2 MB/s eta 0:00:04\n",
      "   -------- ------------------------------- 2.5/12.3 MB 3.3 MB/s eta 0:00:04\n",
      "   -------- ------------------------------- 2.7/12.3 MB 3.4 MB/s eta 0:00:03\n",
      "   --------- ------------------------------ 2.8/12.3 MB 3.3 MB/s eta 0:00:03\n",
      "   --------- ------------------------------ 3.1/12.3 MB 3.4 MB/s eta 0:00:03\n",
      "   --------- ------------------------------ 3.1/12.3 MB 3.4 MB/s eta 0:00:03\n",
      "   ----------- ---------------------------- 3.5/12.3 MB 3.5 MB/s eta 0:00:03\n",
      "   ----------- ---------------------------- 3.5/12.3 MB 3.4 MB/s eta 0:00:03\n",
      "   ----------- ---------------------------- 3.6/12.3 MB 3.4 MB/s eta 0:00:03\n",
      "   ------------ --------------------------- 3.9/12.3 MB 3.5 MB/s eta 0:00:03\n",
      "   ------------- -------------------------- 4.1/12.3 MB 3.5 MB/s eta 0:00:03\n",
      "   -------------- ------------------------- 4.4/12.3 MB 3.6 MB/s eta 0:00:03\n",
      "   --------------- ------------------------ 4.7/12.3 MB 3.7 MB/s eta 0:00:03\n",
      "   --------------- ------------------------ 4.8/12.3 MB 3.6 MB/s eta 0:00:03\n",
      "   ---------------- ----------------------- 5.2/12.3 MB 3.8 MB/s eta 0:00:02\n",
      "   ----------------- ---------------------- 5.4/12.3 MB 3.8 MB/s eta 0:00:02\n",
      "   ------------------ --------------------- 5.6/12.3 MB 3.8 MB/s eta 0:00:02\n",
      "   ------------------- -------------------- 5.9/12.3 MB 3.9 MB/s eta 0:00:02\n",
      "   ------------------- -------------------- 6.0/12.3 MB 3.9 MB/s eta 0:00:02\n",
      "   -------------------- ------------------- 6.4/12.3 MB 4.0 MB/s eta 0:00:02\n",
      "   --------------------- ------------------ 6.6/12.3 MB 4.0 MB/s eta 0:00:02\n",
      "   --------------------- ------------------ 6.6/12.3 MB 3.9 MB/s eta 0:00:02\n",
      "   ---------------------- ----------------- 7.0/12.3 MB 4.0 MB/s eta 0:00:02\n",
      "   ----------------------- ---------------- 7.3/12.3 MB 4.1 MB/s eta 0:00:02\n",
      "   ----------------------- ---------------- 7.3/12.3 MB 4.1 MB/s eta 0:00:02\n",
      "   ------------------------ --------------- 7.6/12.3 MB 4.0 MB/s eta 0:00:02\n",
      "   ------------------------- -------------- 7.9/12.3 MB 4.1 MB/s eta 0:00:02\n",
      "   ------------------------- -------------- 7.9/12.3 MB 4.1 MB/s eta 0:00:02\n",
      "   --------------------------- ------------ 8.3/12.3 MB 4.1 MB/s eta 0:00:01\n",
      "   --------------------------- ------------ 8.6/12.3 MB 4.2 MB/s eta 0:00:01\n",
      "   ---------------------------- ----------- 8.7/12.3 MB 4.1 MB/s eta 0:00:01\n",
      "   ----------------------------- ---------- 9.1/12.3 MB 4.2 MB/s eta 0:00:01\n",
      "   ------------------------------ --------- 9.3/12.3 MB 4.2 MB/s eta 0:00:01\n",
      "   ------------------------------- -------- 9.6/12.3 MB 4.3 MB/s eta 0:00:01\n",
      "   -------------------------------- ------- 9.9/12.3 MB 4.3 MB/s eta 0:00:01\n",
      "   --------------------------------- ------ 10.4/12.3 MB 4.5 MB/s eta 0:00:01\n",
      "   --------------------------------- ------ 10.4/12.3 MB 4.5 MB/s eta 0:00:01\n",
      "   ---------------------------------- ----- 10.7/12.3 MB 4.5 MB/s eta 0:00:01\n",
      "   ------------------------------------ --- 11.2/12.3 MB 4.7 MB/s eta 0:00:01\n",
      "   ------------------------------------ --- 11.3/12.3 MB 4.8 MB/s eta 0:00:01\n",
      "   ------------------------------------- -- 11.5/12.3 MB 4.7 MB/s eta 0:00:01\n",
      "   ---------------------------------------  12.1/12.3 MB 5.0 MB/s eta 0:00:01\n",
      "   ---------------------------------------  12.1/12.3 MB 5.0 MB/s eta 0:00:01\n",
      "   ---------------------------------------  12.3/12.3 MB 5.0 MB/s eta 0:00:01\n",
      "   ---------------------------------------- 12.3/12.3 MB 4.9 MB/s eta 0:00:00\n",
      "Downloading scramp-1.4.5-py3-none-any.whl (12 kB)\n",
      "Downloading asn1crypto-1.5.1-py2.py3-none-any.whl (105 kB)\n",
      "   ---------------------------------------- 0.0/105.0 kB ? eta -:--:--\n",
      "   ---------------------------------------- 105.0/105.0 kB 5.9 MB/s eta 0:00:00\n",
      "Downloading s3transfer-0.10.1-py3-none-any.whl (82 kB)\n",
      "   ---------------------------------------- 0.0/82.2 kB ? eta -:--:--\n",
      "   ---------------------------------------- 82.2/82.2 kB 4.5 MB/s eta 0:00:00\n",
      "Installing collected packages: asn1crypto, scramp, botocore, s3transfer, boto3, redshift_connector\n",
      "  Attempting uninstall: botocore\n",
      "    Found existing installation: botocore 1.29.76\n",
      "    Uninstalling botocore-1.29.76:\n",
      "      Successfully uninstalled botocore-1.29.76\n",
      "Successfully installed asn1crypto-1.5.1 boto3-1.34.120 botocore-1.34.120 redshift_connector-2.1.1 s3transfer-0.10.1 scramp-1.4.5\n"
     ]
    },
    {
     "name": "stderr",
     "output_type": "stream",
     "text": [
      "ERROR: pip's dependency resolver does not currently take into account all the packages that are installed. This behaviour is the source of the following dependency conflicts.\n",
      "aiobotocore 2.5.0 requires botocore<1.29.77,>=1.29.76, but you have botocore 1.34.120 which is incompatible.\n"
     ]
    }
   ],
   "source": [
    "!pip install sqlalchemy-redshift\n",
    "!pip install redshift_connector"
   ]
  },
  {
   "cell_type": "code",
   "execution_count": 15,
   "id": "7a8692e8",
   "metadata": {},
   "outputs": [],
   "source": [
    "import requests\n",
    "import pandas as pd\n",
    "from sqlalchemy import create_engine\n",
    "import psycopg2"
   ]
  },
  {
   "cell_type": "code",
   "execution_count": 16,
   "id": "9f22d649",
   "metadata": {},
   "outputs": [],
   "source": [
    "# Configuración de las credenciales de Redshift\n",
    "redshift_user = 'camilo_lyv_coderhouse'\n",
    "redshift_password = 'cC03egF87w'\n",
    "redshift_endpoint = 'data-engineer-cluster.cyhh5bfevlmn.us-east-1.redshift.amazonaws.com'\n",
    "redshift_db = 'data-engineer-database'\n",
    "redshift_port = 5439"
   ]
  },
  {
   "cell_type": "code",
   "execution_count": 17,
   "id": "d3c09627",
   "metadata": {},
   "outputs": [
    {
     "name": "stdout",
     "output_type": "stream",
     "text": [
      "Conexión a Redshift establecida correctamente.\n"
     ]
    }
   ],
   "source": [
    "# Verificación de las credenciales de Redshift\n",
    "try:\n",
    "    engine = create_engine(f'redshift+psycopg2://{redshift_user}:{redshift_password}@{redshift_endpoint}:{redshift_port}/{redshift_db}')\n",
    "    print(\"Conexión a Redshift establecida correctamente.\")\n",
    "except Exception as e:\n",
    "    print(\"Error al establecer la conexión a Redshift:\", str(e))"
   ]
  },
  {
   "cell_type": "code",
   "execution_count": 18,
   "id": "9862f2b2",
   "metadata": {},
   "outputs": [
    {
     "name": "stdout",
     "output_type": "stream",
     "text": [
      "Datos extraídos de la API correctamente.\n"
     ]
    }
   ],
   "source": [
    "# Extraer datos de la API\n",
    "url = \"https://api-colombia.com/api/v1/Department\"\n",
    "try:\n",
    "    response = requests.get(url)\n",
    "    data = response.json()\n",
    "    print(\"Datos extraídos de la API correctamente.\")\n",
    "except Exception as e:\n",
    "    print(\"Error al extraer datos de la API:\", str(e))\n",
    "    data = None"
   ]
  },
  {
   "cell_type": "code",
   "execution_count": 19,
   "id": "9ae250fe",
   "metadata": {},
   "outputs": [
    {
     "name": "stdout",
     "output_type": "stream",
     "text": [
      "Datos convertidos a DataFrame correctamente.\n"
     ]
    }
   ],
   "source": [
    "# Convertir a DataFrame de pandas\n",
    "try:\n",
    "    df = pd.json_normalize(data)\n",
    "    print(\"Datos convertidos a DataFrame correctamente.\")\n",
    "except Exception as e:\n",
    "    print(\"Error al convertir datos a DataFrame:\", str(e))\n",
    "    df = None"
   ]
  },
  {
   "cell_type": "code",
   "execution_count": 22,
   "id": "e51e3350",
   "metadata": {},
   "outputs": [],
   "source": [
    "# Eliminar la columna 'description'\n",
    "df = df.drop(columns=['description'])"
   ]
  },
  {
   "cell_type": "code",
   "execution_count": 23,
   "id": "04c641bf",
   "metadata": {},
   "outputs": [
    {
     "name": "stdout",
     "output_type": "stream",
     "text": [
      "Datos cargados en la tabla 'departamentos' de Redshift correctamente.\n"
     ]
    }
   ],
   "source": [
    "# Carga y verificacion de datos en la tabla redshift\n",
    "if df is not None:\n",
    "    try:\n",
    "        df.to_sql('departamentos', engine, if_exists='replace', index=False)\n",
    "        print(\"Datos cargados en la tabla 'departamentos' de Redshift correctamente.\")\n",
    "    except Exception as e:\n",
    "        print(\"Error al cargar datos en Redshift:\", str(e))"
   ]
  },
  {
   "cell_type": "code",
   "execution_count": 24,
   "id": "46f0d571",
   "metadata": {},
   "outputs": [
    {
     "name": "stdout",
     "output_type": "stream",
     "text": [
      "Primeros 5 registros en la tabla 'departamentos' de Redshift:\n",
      "(10, 'Casanare', 380, 19, 44640, 442068, '8', 1, None, None, None, 3, None, None, None, None, None)\n",
      "(11, 'Cauca', 399, 41, 29308, 1516018, '2', 1, None, None, None, 2, None, None, None, None, None)\n",
      "(12, 'Cesar', 441, 25, 22905, 1341697, '4', 1, None, None, None, 1, None, None, None, None, None)\n",
      "(13, 'Chocó', 467, 31, 46530, 553519, '4', 1, None, None, None, 2, None, None, None, None, None)\n",
      "(14, 'Córdoba', 498, 30, 25020, 1856496, '4', 1, None, None, None, 1, None, None, None, None, None)\n"
     ]
    }
   ],
   "source": [
    "# Verificamos los datos en la tabla en redshift a traves de una consulta SQL\n",
    "try:\n",
    "    with engine.connect() as connection:\n",
    "        result = connection.execute(\"SELECT * FROM departamentos LIMIT 5\")\n",
    "        print(\"Primeros 5 registros en la tabla 'departamentos' de Redshift:\")\n",
    "        for row in result:\n",
    "            print(row)\n",
    "except Exception as e:\n",
    "    print(\"Error al verificar los datos en Redshift:\", str(e))"
   ]
  }
 ],
 "metadata": {
  "kernelspec": {
   "display_name": "Python 3 (ipykernel)",
   "language": "python",
   "name": "python3"
  },
  "language_info": {
   "codemirror_mode": {
    "name": "ipython",
    "version": 3
   },
   "file_extension": ".py",
   "mimetype": "text/x-python",
   "name": "python",
   "nbconvert_exporter": "python",
   "pygments_lexer": "ipython3",
   "version": "3.11.5"
  }
 },
 "nbformat": 4,
 "nbformat_minor": 5
}
